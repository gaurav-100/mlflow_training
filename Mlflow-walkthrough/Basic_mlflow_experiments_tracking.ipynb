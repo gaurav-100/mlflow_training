{
 "cells": [
  {
   "cell_type": "code",
   "execution_count": 1,
   "id": "ea0c8bb9",
   "metadata": {},
   "outputs": [],
   "source": [
    "import warnings\n",
    "import sys\n",
    "\n",
    "import pandas as pd\n",
    "import numpy as np\n",
    "\n",
    "from sklearn.metrics import mean_absolute_error, mean_squared_error, r2_score\n",
    "from sklearn.model_selection import train_test_split\n",
    "from sklearn.linear_model import ElasticNet\n",
    "\n",
    "import mlflow\n",
    "import mlflow.sklearn"
   ]
  },
  {
   "cell_type": "markdown",
   "id": "e28febc9",
   "metadata": {},
   "source": [
    "# Data\n",
    "\n",
    "data_link = 'https://archive.ics.uci.edu/ml/machine-learning-databases/wine-quality/'"
   ]
  },
  {
   "cell_type": "code",
   "execution_count": 2,
   "id": "a4b7fb7c",
   "metadata": {},
   "outputs": [
    {
     "data": {
      "text/html": [
       "<div>\n",
       "<style scoped>\n",
       "    .dataframe tbody tr th:only-of-type {\n",
       "        vertical-align: middle;\n",
       "    }\n",
       "\n",
       "    .dataframe tbody tr th {\n",
       "        vertical-align: top;\n",
       "    }\n",
       "\n",
       "    .dataframe thead th {\n",
       "        text-align: right;\n",
       "    }\n",
       "</style>\n",
       "<table border=\"1\" class=\"dataframe\">\n",
       "  <thead>\n",
       "    <tr style=\"text-align: right;\">\n",
       "      <th></th>\n",
       "      <th>fixed acidity</th>\n",
       "      <th>volatile acidity</th>\n",
       "      <th>citric acid</th>\n",
       "      <th>residual sugar</th>\n",
       "      <th>chlorides</th>\n",
       "      <th>free sulfur dioxide</th>\n",
       "      <th>total sulfur dioxide</th>\n",
       "      <th>density</th>\n",
       "      <th>pH</th>\n",
       "      <th>sulphates</th>\n",
       "      <th>alcohol</th>\n",
       "      <th>quality</th>\n",
       "    </tr>\n",
       "  </thead>\n",
       "  <tbody>\n",
       "    <tr>\n",
       "      <th>902</th>\n",
       "      <td>7.4</td>\n",
       "      <td>0.635</td>\n",
       "      <td>0.10</td>\n",
       "      <td>2.4</td>\n",
       "      <td>0.080</td>\n",
       "      <td>16.0</td>\n",
       "      <td>33.0</td>\n",
       "      <td>0.99736</td>\n",
       "      <td>3.58</td>\n",
       "      <td>0.69</td>\n",
       "      <td>10.8</td>\n",
       "      <td>7</td>\n",
       "    </tr>\n",
       "    <tr>\n",
       "      <th>437</th>\n",
       "      <td>11.1</td>\n",
       "      <td>0.450</td>\n",
       "      <td>0.73</td>\n",
       "      <td>3.2</td>\n",
       "      <td>0.066</td>\n",
       "      <td>6.0</td>\n",
       "      <td>22.0</td>\n",
       "      <td>0.99860</td>\n",
       "      <td>3.17</td>\n",
       "      <td>0.66</td>\n",
       "      <td>11.2</td>\n",
       "      <td>6</td>\n",
       "    </tr>\n",
       "    <tr>\n",
       "      <th>1445</th>\n",
       "      <td>7.4</td>\n",
       "      <td>0.785</td>\n",
       "      <td>0.19</td>\n",
       "      <td>5.2</td>\n",
       "      <td>0.094</td>\n",
       "      <td>19.0</td>\n",
       "      <td>98.0</td>\n",
       "      <td>0.99713</td>\n",
       "      <td>3.16</td>\n",
       "      <td>0.52</td>\n",
       "      <td>9.6</td>\n",
       "      <td>6</td>\n",
       "    </tr>\n",
       "    <tr>\n",
       "      <th>272</th>\n",
       "      <td>10.9</td>\n",
       "      <td>0.370</td>\n",
       "      <td>0.58</td>\n",
       "      <td>4.0</td>\n",
       "      <td>0.071</td>\n",
       "      <td>17.0</td>\n",
       "      <td>65.0</td>\n",
       "      <td>0.99935</td>\n",
       "      <td>3.22</td>\n",
       "      <td>0.78</td>\n",
       "      <td>10.1</td>\n",
       "      <td>5</td>\n",
       "    </tr>\n",
       "    <tr>\n",
       "      <th>93</th>\n",
       "      <td>7.7</td>\n",
       "      <td>0.490</td>\n",
       "      <td>0.26</td>\n",
       "      <td>1.9</td>\n",
       "      <td>0.062</td>\n",
       "      <td>9.0</td>\n",
       "      <td>31.0</td>\n",
       "      <td>0.99660</td>\n",
       "      <td>3.39</td>\n",
       "      <td>0.64</td>\n",
       "      <td>9.6</td>\n",
       "      <td>5</td>\n",
       "    </tr>\n",
       "  </tbody>\n",
       "</table>\n",
       "</div>"
      ],
      "text/plain": [
       "      fixed acidity  volatile acidity  citric acid  residual sugar  chlorides  \\\n",
       "902             7.4             0.635         0.10             2.4      0.080   \n",
       "437            11.1             0.450         0.73             3.2      0.066   \n",
       "1445            7.4             0.785         0.19             5.2      0.094   \n",
       "272            10.9             0.370         0.58             4.0      0.071   \n",
       "93              7.7             0.490         0.26             1.9      0.062   \n",
       "\n",
       "      free sulfur dioxide  total sulfur dioxide  density    pH  sulphates  \\\n",
       "902                  16.0                  33.0  0.99736  3.58       0.69   \n",
       "437                   6.0                  22.0  0.99860  3.17       0.66   \n",
       "1445                 19.0                  98.0  0.99713  3.16       0.52   \n",
       "272                  17.0                  65.0  0.99935  3.22       0.78   \n",
       "93                    9.0                  31.0  0.99660  3.39       0.64   \n",
       "\n",
       "      alcohol  quality  \n",
       "902      10.8        7  \n",
       "437      11.2        6  \n",
       "1445      9.6        6  \n",
       "272      10.1        5  \n",
       "93        9.6        5  "
      ]
     },
     "execution_count": 2,
     "metadata": {},
     "output_type": "execute_result"
    }
   ],
   "source": [
    "data_path = \"data/winequality-red.csv\"\n",
    "data = pd.read_csv(data_path, sep=\";\")\n",
    "\n",
    "data.sample(5)"
   ]
  },
  {
   "cell_type": "markdown",
   "id": "3dd9616b",
   "metadata": {},
   "source": [
    "# 1. Tracking experiments"
   ]
  },
  {
   "cell_type": "markdown",
   "id": "2456fbde",
   "metadata": {},
   "source": [
    "To start MLflow server,\n",
    "\n",
    "`mlflow server --backend-store-uri mlruns/ --default-artifact-root mlruns/ --host localhost --port 5000`"
   ]
  },
  {
   "cell_type": "code",
   "execution_count": 3,
   "id": "9915abbb",
   "metadata": {},
   "outputs": [],
   "source": [
    "remote_server_uri = \"http://localhost:5000\"\n",
    "mlflow.set_tracking_uri(remote_server_uri)"
   ]
  },
  {
   "cell_type": "code",
   "execution_count": 4,
   "id": "198d0de0",
   "metadata": {},
   "outputs": [
    {
     "data": {
      "text/plain": [
       "'http://localhost:5000'"
      ]
     },
     "execution_count": 4,
     "metadata": {},
     "output_type": "execute_result"
    }
   ],
   "source": [
    "mlflow.tracking.get_tracking_uri()"
   ]
  },
  {
   "cell_type": "code",
   "execution_count": 5,
   "id": "5670ff62",
   "metadata": {},
   "outputs": [
    {
     "data": {
      "text/plain": [
       "<Experiment: artifact_location='mlruns/1', experiment_id='1', lifecycle_stage='active', name='Elasticnet_wine', tags={}>"
      ]
     },
     "execution_count": 5,
     "metadata": {},
     "output_type": "execute_result"
    }
   ],
   "source": [
    "# Set an experiment like in git creating branch or directly go to it if exists\n",
    "exp_name = \"Elasticnet_wine\"\n",
    "mlflow.set_experiment(exp_name)"
   ]
  },
  {
   "cell_type": "markdown",
   "id": "bb9aceb3",
   "metadata": {},
   "source": [
    "# 2. Modelling"
   ]
  },
  {
   "cell_type": "code",
   "execution_count": 6,
   "id": "04193b2b",
   "metadata": {},
   "outputs": [],
   "source": [
    "def eval_metrics(actual, pred):\n",
    "    # compute relevant metrics\n",
    "    rmse = np.sqrt(mean_squared_error(actual, pred))\n",
    "    mae = mean_absolute_error(actual, pred)\n",
    "    r2 = r2_score(actual, pred)\n",
    "    return rmse, mae, r2\n",
    "\n",
    "def load_data(data_path):\n",
    "    data = pd.read_csv(data_path, sep=\";\")\n",
    "    \n",
    "    # Split data to train, test (0.75,0.25) split\n",
    "    train, test = train_test_split(data)\n",
    "    \n",
    "    # The predicted column is 'quality' which is a scalar from [3,9]\n",
    "    train_x = train.drop(['quality'], axis=1)\n",
    "    test_x = test.drop(['quality'], axis=1)\n",
    "    train_y = train['quality']\n",
    "    test_y = test['quality']\n",
    "    \n",
    "    return train_x, train_y, test_x, test_y"
   ]
  },
  {
   "cell_type": "code",
   "execution_count": 7,
   "id": "bdc59f71",
   "metadata": {},
   "outputs": [],
   "source": [
    "def train(alpha=0.5, l1_ratio=0.5):\n",
    "    # train a model with given parameter\n",
    "    warnings.filterwarnings(\"ignore\")\n",
    "    np.random.seed(40)\n",
    "    \n",
    "    # Read the wine quality csv file (make sure it is running from root directory)\n",
    "    data_path = \"data/winequality-red.csv\"\n",
    "    train_x, train_y, test_x, test_y = load_data(data_path)\n",
    "    \n",
    "    # Useful for multiple runs (only doing one run here)\n",
    "    with mlflow.start_run():\n",
    "        # Execute ElasticNet\n",
    "        lr = ElasticNet(alpha=alpha, l1_ratio=l1_ratio, random_state=42)\n",
    "        lr.fit(train_x, train_y)\n",
    "        \n",
    "        # Evaluate metrics\n",
    "        predicted_qualities = lr.predict(test_x)\n",
    "        (rmse, mae, r2) = eval_metrics(test_y, predicted_qualities)\n",
    "        \n",
    "        # Print out the metrics\n",
    "        print(\"ElasticNet model (alpha=%f, l1_ratio=%f):\" % (alpha, l1_ratio))\n",
    "        print(\" RMSE: %s\" % rmse)\n",
    "        print(\" MAE: %s\" % mae)\n",
    "        print(\" R2: %s\" % r2)\n",
    "        \n",
    "        # Log parameter, metrics, and model to MLFlow\n",
    "        mlflow.log_param(key=\"alpha\", value=alpha)\n",
    "        mlflow.log_param(key=\"l1_ratio\", value=l1_ratio)\n",
    "        mlflow.log_metric(key=\"rmse\", value=rmse)\n",
    "        mlflow.log_metrics({\"mae\": mae, \"r2\": r2})        \n",
    "        mlflow.log_artifact(data_path)\n",
    "        print(\"Save to: {}\".format(mlflow.get_artifact_uri()))\n",
    "        \n",
    "        mlflow.sklearn.log_model(lr, \"model\")"
   ]
  },
  {
   "cell_type": "code",
   "execution_count": 8,
   "id": "6ae2b71d",
   "metadata": {},
   "outputs": [],
   "source": [
    "# could also do to track values over multiple steps\n",
    "# with mlflow.start_run():\n",
    "#     for epoch in range(0, 3):\n",
    "#         mlflow.log_metric(key=\"quality\", value=2*epoch, step=epoch)"
   ]
  },
  {
   "cell_type": "code",
   "execution_count": 14,
   "id": "db6826bd",
   "metadata": {},
   "outputs": [
    {
     "name": "stdout",
     "output_type": "stream",
     "text": [
      "ElasticNet model (alpha=0.500000, l1_ratio=0.500000):\n",
      " RMSE: 0.793164022927685\n",
      " MAE: 0.6271946374319586\n",
      " R2: 0.10862644997792625\n",
      "Save to: mlruns/1/804d002393cc4502808bb7c70d105e55/artifacts\n"
     ]
    }
   ],
   "source": [
    "train(0.5, 0.5)"
   ]
  },
  {
   "cell_type": "code",
   "execution_count": 15,
   "id": "9537ee12",
   "metadata": {},
   "outputs": [
    {
     "name": "stdout",
     "output_type": "stream",
     "text": [
      "ElasticNet model (alpha=0.200000, l1_ratio=0.200000):\n",
      " RMSE: 0.7336400911821402\n",
      " MAE: 0.5643841279275427\n",
      " R2: 0.2373946606358417\n",
      "Save to: mlruns/1/3ca04bf6e3d44452855f8d1cf0e8124a/artifacts\n"
     ]
    }
   ],
   "source": [
    "train(0.2, 0.2)"
   ]
  },
  {
   "cell_type": "code",
   "execution_count": 16,
   "id": "0c821ab5",
   "metadata": {},
   "outputs": [
    {
     "name": "stdout",
     "output_type": "stream",
     "text": [
      "ElasticNet model (alpha=0.100000, l1_ratio=0.100000):\n",
      " RMSE: 0.7128829045893679\n",
      " MAE: 0.5462202174984664\n",
      " R2: 0.2799376066653345\n",
      "Save to: mlruns/1/2f9e209a3e4a493896f0ca84499842f4/artifacts\n"
     ]
    }
   ],
   "source": [
    "train(0.1, 0.1)"
   ]
  },
  {
   "cell_type": "markdown",
   "id": "5531e157",
   "metadata": {},
   "source": [
    "**Note**:\n",
    "\n",
    "* Getting some issues with running `mlflow ui` command. Getting error.\n",
    "* So directly opened link, which seems to work"
   ]
  },
  {
   "cell_type": "markdown",
   "id": "18ba7339",
   "metadata": {},
   "source": [
    "# 3. Tagging runs"
   ]
  },
  {
   "cell_type": "markdown",
   "id": "94615f86",
   "metadata": {},
   "source": [
    "Now we have a model which is ready for deployment. If we want to know what happened to the model in the future, is it just an experimentation, or did it go for production? So we tag it automatically."
   ]
  },
  {
   "cell_type": "code",
   "execution_count": 5,
   "id": "a82f980c",
   "metadata": {},
   "outputs": [
    {
     "name": "stdout",
     "output_type": "stream",
     "text": [
      "[<Experiment: artifact_location='mlruns/0', experiment_id='0', lifecycle_stage='active', name='Default', tags={}>, <Experiment: artifact_location='mlruns/1', experiment_id='1', lifecycle_stage='active', name='Elasticnet_wine', tags={}>]\n"
     ]
    }
   ],
   "source": [
    "from datetime import datetime\n",
    "from mlflow.tracking import MlflowClient\n",
    "\n",
    "client = MlflowClient()\n",
    "experiments = client.list_experiments() # returns a list of mlflow.entities.Experiment\n",
    "print(experiments)"
   ]
  },
  {
   "cell_type": "code",
   "execution_count": 6,
   "id": "237186f5",
   "metadata": {},
   "outputs": [
    {
     "name": "stdout",
     "output_type": "stream",
     "text": [
      "<Run: data=<RunData: metrics={'mae': 0.5643841279275427,\n",
      " 'r2': 0.2373946606358417,\n",
      " 'rmse': 0.7336400911821402}, params={'alpha': '0.2', 'l1_ratio': '0.2'}, tags={'mlflow.log-model.history': '[{\"run_id\": \"3ca04bf6e3d44452855f8d1cf0e8124a\", '\n",
      "                             '\"artifact_path\": \"model\", \"utc_time_created\": '\n",
      "                             '\"2022-08-04 20:20:38.519622\", \"flavors\": '\n",
      "                             '{\"python_function\": {\"model_path\": \"model.pkl\", '\n",
      "                             '\"loader_module\": \"mlflow.sklearn\", '\n",
      "                             '\"python_version\": \"3.10.4\", \"env\": '\n",
      "                             '\"conda.yaml\"}, \"sklearn\": {\"pickled_model\": '\n",
      "                             '\"model.pkl\", \"sklearn_version\": \"1.0.1\", '\n",
      "                             '\"serialization_format\": \"cloudpickle\", \"code\": '\n",
      "                             'null}}, \"model_uuid\": '\n",
      "                             '\"7549740cc5794a2987ce414229d4095c\", '\n",
      "                             '\"mlflow_version\": \"1.27.0\"}]',\n",
      " 'mlflow.source.name': '/home/gaurav/miniconda3/envs/mle-dev/lib/python3.10/site-packages/ipykernel_launcher.py',\n",
      " 'mlflow.source.type': 'LOCAL',\n",
      " 'mlflow.user': 'gaurav'}>, info=<RunInfo: artifact_uri='mlruns/1/3ca04bf6e3d44452855f8d1cf0e8124a/artifacts', end_time=1659644439505, experiment_id='1', lifecycle_stage='active', run_id='3ca04bf6e3d44452855f8d1cf0e8124a', run_uuid='3ca04bf6e3d44452855f8d1cf0e8124a', start_time=1659644438485, status='FINISHED', user_id='gaurav'>>\n"
     ]
    }
   ],
   "source": [
    "# Get the run from run ID\n",
    "_run = client.get_run('3ca04bf6e3d44452855f8d1cf0e8124a')\n",
    "print(_run)"
   ]
  },
  {
   "cell_type": "code",
   "execution_count": 7,
   "id": "b7fe46cc",
   "metadata": {},
   "outputs": [],
   "source": [
    "# add a tag to the run\n",
    "dt = datetime.now().strftime(\"%d-%m-%Y (%H:%M:%S.%f)\")\n",
    "client.set_tag(_run.info.run_id, \"deployed\", dt)"
   ]
  },
  {
   "cell_type": "code",
   "execution_count": 18,
   "id": "d249c027",
   "metadata": {},
   "outputs": [],
   "source": [
    "# _run.info.run_id"
   ]
  },
  {
   "cell_type": "code",
   "execution_count": null,
   "id": "59037378",
   "metadata": {},
   "outputs": [],
   "source": []
  }
 ],
 "metadata": {
  "kernelspec": {
   "display_name": "Python 3 (ipykernel)",
   "language": "python",
   "name": "python3"
  },
  "language_info": {
   "codemirror_mode": {
    "name": "ipython",
    "version": 3
   },
   "file_extension": ".py",
   "mimetype": "text/x-python",
   "name": "python",
   "nbconvert_exporter": "python",
   "pygments_lexer": "ipython3",
   "version": "3.10.4"
  },
  "vscode": {
   "interpreter": {
    "hash": "916dbcbb3f70747c44a77c7bcd40155683ae19c65e1c03b4aa3499c5328201f1"
   }
  }
 },
 "nbformat": 4,
 "nbformat_minor": 5
}
