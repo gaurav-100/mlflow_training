{
 "cells": [
  {
   "cell_type": "code",
   "execution_count": 3,
   "id": "ea0c8bb9",
   "metadata": {},
   "outputs": [],
   "source": [
    "import warnings\n",
    "import sys\n",
    "\n",
    "import pandas as pd\n",
    "import numpy as np\n",
    "\n",
    "from sklearn.metrics import mean_absolute_error, mean_squared_error, r2_score\n",
    "from sklearn.model_selection import train_test_split\n",
    "from sklearn.linear_model import ElasticNet\n",
    "\n",
    "import mlflow\n",
    "import mlflow.sklearn"
   ]
  },
  {
   "cell_type": "markdown",
   "id": "e28febc9",
   "metadata": {},
   "source": [
    "# Data\n",
    "\n",
    "data_link = 'https://archive.ics.uci.edu/ml/machine-learning-databases/wine-quality/'"
   ]
  },
  {
   "cell_type": "code",
   "execution_count": 6,
   "id": "a4b7fb7c",
   "metadata": {},
   "outputs": [
    {
     "data": {
      "text/html": [
       "<div>\n",
       "<style scoped>\n",
       "    .dataframe tbody tr th:only-of-type {\n",
       "        vertical-align: middle;\n",
       "    }\n",
       "\n",
       "    .dataframe tbody tr th {\n",
       "        vertical-align: top;\n",
       "    }\n",
       "\n",
       "    .dataframe thead th {\n",
       "        text-align: right;\n",
       "    }\n",
       "</style>\n",
       "<table border=\"1\" class=\"dataframe\">\n",
       "  <thead>\n",
       "    <tr style=\"text-align: right;\">\n",
       "      <th></th>\n",
       "      <th>fixed acidity</th>\n",
       "      <th>volatile acidity</th>\n",
       "      <th>citric acid</th>\n",
       "      <th>residual sugar</th>\n",
       "      <th>chlorides</th>\n",
       "      <th>free sulfur dioxide</th>\n",
       "      <th>total sulfur dioxide</th>\n",
       "      <th>density</th>\n",
       "      <th>pH</th>\n",
       "      <th>sulphates</th>\n",
       "      <th>alcohol</th>\n",
       "      <th>quality</th>\n",
       "    </tr>\n",
       "  </thead>\n",
       "  <tbody>\n",
       "    <tr>\n",
       "      <th>435</th>\n",
       "      <td>12.3</td>\n",
       "      <td>0.39</td>\n",
       "      <td>0.63</td>\n",
       "      <td>2.3</td>\n",
       "      <td>0.091</td>\n",
       "      <td>6.0</td>\n",
       "      <td>18.0</td>\n",
       "      <td>1.00040</td>\n",
       "      <td>3.16</td>\n",
       "      <td>0.49</td>\n",
       "      <td>9.5</td>\n",
       "      <td>5</td>\n",
       "    </tr>\n",
       "    <tr>\n",
       "      <th>246</th>\n",
       "      <td>7.1</td>\n",
       "      <td>0.68</td>\n",
       "      <td>0.07</td>\n",
       "      <td>1.9</td>\n",
       "      <td>0.075</td>\n",
       "      <td>16.0</td>\n",
       "      <td>51.0</td>\n",
       "      <td>0.99685</td>\n",
       "      <td>3.38</td>\n",
       "      <td>0.52</td>\n",
       "      <td>9.5</td>\n",
       "      <td>5</td>\n",
       "    </tr>\n",
       "    <tr>\n",
       "      <th>757</th>\n",
       "      <td>8.1</td>\n",
       "      <td>0.87</td>\n",
       "      <td>0.00</td>\n",
       "      <td>2.2</td>\n",
       "      <td>0.084</td>\n",
       "      <td>10.0</td>\n",
       "      <td>31.0</td>\n",
       "      <td>0.99656</td>\n",
       "      <td>3.25</td>\n",
       "      <td>0.50</td>\n",
       "      <td>9.8</td>\n",
       "      <td>5</td>\n",
       "    </tr>\n",
       "    <tr>\n",
       "      <th>899</th>\n",
       "      <td>8.3</td>\n",
       "      <td>1.02</td>\n",
       "      <td>0.02</td>\n",
       "      <td>3.4</td>\n",
       "      <td>0.084</td>\n",
       "      <td>6.0</td>\n",
       "      <td>11.0</td>\n",
       "      <td>0.99892</td>\n",
       "      <td>3.48</td>\n",
       "      <td>0.49</td>\n",
       "      <td>11.0</td>\n",
       "      <td>3</td>\n",
       "    </tr>\n",
       "    <tr>\n",
       "      <th>70</th>\n",
       "      <td>7.7</td>\n",
       "      <td>0.63</td>\n",
       "      <td>0.08</td>\n",
       "      <td>1.9</td>\n",
       "      <td>0.076</td>\n",
       "      <td>15.0</td>\n",
       "      <td>27.0</td>\n",
       "      <td>0.99670</td>\n",
       "      <td>3.32</td>\n",
       "      <td>0.54</td>\n",
       "      <td>9.5</td>\n",
       "      <td>6</td>\n",
       "    </tr>\n",
       "  </tbody>\n",
       "</table>\n",
       "</div>"
      ],
      "text/plain": [
       "     fixed acidity  volatile acidity  citric acid  residual sugar  chlorides  \\\n",
       "435           12.3              0.39         0.63             2.3      0.091   \n",
       "246            7.1              0.68         0.07             1.9      0.075   \n",
       "757            8.1              0.87         0.00             2.2      0.084   \n",
       "899            8.3              1.02         0.02             3.4      0.084   \n",
       "70             7.7              0.63         0.08             1.9      0.076   \n",
       "\n",
       "     free sulfur dioxide  total sulfur dioxide  density    pH  sulphates  \\\n",
       "435                  6.0                  18.0  1.00040  3.16       0.49   \n",
       "246                 16.0                  51.0  0.99685  3.38       0.52   \n",
       "757                 10.0                  31.0  0.99656  3.25       0.50   \n",
       "899                  6.0                  11.0  0.99892  3.48       0.49   \n",
       "70                  15.0                  27.0  0.99670  3.32       0.54   \n",
       "\n",
       "     alcohol  quality  \n",
       "435      9.5        5  \n",
       "246      9.5        5  \n",
       "757      9.8        5  \n",
       "899     11.0        3  \n",
       "70       9.5        6  "
      ]
     },
     "execution_count": 6,
     "metadata": {},
     "output_type": "execute_result"
    }
   ],
   "source": [
    "data_path = \"data/winequality-red.csv\"\n",
    "data = pd.read_csv(data_path, sep=\";\")\n",
    "\n",
    "data.sample(5)"
   ]
  },
  {
   "cell_type": "markdown",
   "id": "3dd9616b",
   "metadata": {},
   "source": [
    "# 1. Tracking experiments"
   ]
  },
  {
   "cell_type": "markdown",
   "id": "2456fbde",
   "metadata": {},
   "source": [
    "To start MLflow server,\n",
    "\n",
    "`mlflow server --backend-store-uri mlruns/ --default-artifact-root mlruns/ --host localhost --port 5000`"
   ]
  },
  {
   "cell_type": "code",
   "execution_count": 8,
   "id": "9915abbb",
   "metadata": {},
   "outputs": [],
   "source": [
    "remote_server_uri = \"http://localhost:5000\"\n",
    "mlflow.set_tracking_uri(remote_server_uri)"
   ]
  },
  {
   "cell_type": "code",
   "execution_count": 9,
   "id": "198d0de0",
   "metadata": {},
   "outputs": [
    {
     "data": {
      "text/plain": [
       "'http://localhost:5000'"
      ]
     },
     "execution_count": 9,
     "metadata": {},
     "output_type": "execute_result"
    }
   ],
   "source": [
    "mlflow.tracking.get_tracking_uri()"
   ]
  },
  {
   "cell_type": "code",
   "execution_count": 10,
   "id": "5670ff62",
   "metadata": {},
   "outputs": [
    {
     "name": "stderr",
     "output_type": "stream",
     "text": [
      "2022/08/05 01:48:38 INFO mlflow.tracking.fluent: Experiment with name 'Elasticnet_wine' does not exist. Creating a new experiment.\n"
     ]
    },
    {
     "data": {
      "text/plain": [
       "<Experiment: artifact_location='mlruns/1', experiment_id='1', lifecycle_stage='active', name='Elasticnet_wine', tags={}>"
      ]
     },
     "execution_count": 10,
     "metadata": {},
     "output_type": "execute_result"
    }
   ],
   "source": [
    "# Set an experiment like in git creating branch or directly go to it if exists\n",
    "exp_name = \"Elasticnet_wine\"\n",
    "mlflow.set_experiment(exp_name)"
   ]
  },
  {
   "cell_type": "markdown",
   "id": "bb9aceb3",
   "metadata": {},
   "source": [
    "# 2. Modelling"
   ]
  },
  {
   "cell_type": "code",
   "execution_count": 11,
   "id": "04193b2b",
   "metadata": {},
   "outputs": [],
   "source": [
    "def eval_metrics(actual, pred):\n",
    "    # compute relevant metrics\n",
    "    rmse = np.sqrt(mean_squared_error(actual, pred))\n",
    "    mae = mean_absolute_error(actual, pred)\n",
    "    r2 = r2_score(actual, pred)\n",
    "    return rmse, mae, r2\n",
    "\n",
    "def load_data(data_path):\n",
    "    data = pd.read_csv(data_path, sep=\";\")\n",
    "    \n",
    "    # Split data to train, test (0.75,0.25) split\n",
    "    train, test = train_test_split(data)\n",
    "    \n",
    "    # The predicted column is 'quality' which is a scalar from [3,9]\n",
    "    train_x = train.drop(['quality'], axis=1)\n",
    "    test_x = test.drop(['quality'], axis=1)\n",
    "    train_y = train['quality']\n",
    "    test_y = test['quality']\n",
    "    \n",
    "    return train_x, train_y, test_x, test_y"
   ]
  },
  {
   "cell_type": "code",
   "execution_count": 23,
   "id": "bdc59f71",
   "metadata": {},
   "outputs": [],
   "source": [
    "def train(alpha=0.5, l1_ratio=0.5):\n",
    "    # train a model with given parameter\n",
    "    warnings.filterwarnings(\"ignore\")\n",
    "    np.random.seed(40)\n",
    "    \n",
    "    # Read the wine quality csv file (make sure it is running from root directory)\n",
    "    data_path = \"data/winequality-red.csv\"\n",
    "    train_x, train_y, test_x, test_y = load_data(data_path)\n",
    "    \n",
    "    # Useful for multiple runs (only doing one run here)\n",
    "    with mlflow.start_run():\n",
    "        # Execute ElasticNet\n",
    "        lr = ElasticNet(alpha=alpha, l1_ratio=l1_ratio, random_state=42)\n",
    "        lr.fit(train_x, train_y)\n",
    "        \n",
    "        # Evaluate metrics\n",
    "        predicted_qualities = lr.predict(test_x)\n",
    "        (rmse, mae, r2) = eval_metrics(test_y, predicted_qualities)\n",
    "        \n",
    "        # Print out the metrics\n",
    "        print(\"ElasticNet model (alpha=%f, l1_ratio=%f):\" % (alpha, l1_ratio))\n",
    "        print(\" RMSE: %s\" % rmse)\n",
    "        print(\" MAE: %s\" % mae)\n",
    "        print(\" R2: %s\" % r2)\n",
    "        \n",
    "        # Log parameter, metrics, and model to MLFlow\n",
    "        mlflow.log_param(key=\"alpha\", value=alpha)\n",
    "        mlflow.log_param(key=\"l1_ratio\", value=l1_ratio)\n",
    "        mlflow.log_metric(key=\"rmse\", value=rmse)\n",
    "        mlflow.log_metrics({\"mae\": mae, \"r2\": r2})        \n",
    "        mlflow.log_artifact(data_path)\n",
    "        print(\"Save to: {}\".format(mlflow.get_artifact_uri()))\n",
    "        \n",
    "        mlflow.sklearn.log_model(lr, \"model\")"
   ]
  },
  {
   "cell_type": "code",
   "execution_count": 13,
   "id": "6ae2b71d",
   "metadata": {},
   "outputs": [],
   "source": [
    "# could also do to track values over multiple steps\n",
    "# with mlflow.start_run():\n",
    "#     for epoch in range(0, 3):\n",
    "#         mlflow.log_metric(key=\"quality\", value=2*epoch, step=epoch)"
   ]
  },
  {
   "cell_type": "code",
   "execution_count": 14,
   "id": "db6826bd",
   "metadata": {},
   "outputs": [
    {
     "name": "stdout",
     "output_type": "stream",
     "text": [
      "ElasticNet model (alpha=0.500000, l1_ratio=0.500000):\n",
      " RMSE: 0.793164022927685\n",
      " MAE: 0.6271946374319586\n",
      " R2: 0.10862644997792625\n",
      "Save to: mlruns/1/804d002393cc4502808bb7c70d105e55/artifacts\n"
     ]
    }
   ],
   "source": [
    "train(0.5, 0.5)"
   ]
  },
  {
   "cell_type": "code",
   "execution_count": 15,
   "id": "9537ee12",
   "metadata": {},
   "outputs": [
    {
     "name": "stdout",
     "output_type": "stream",
     "text": [
      "ElasticNet model (alpha=0.200000, l1_ratio=0.200000):\n",
      " RMSE: 0.7336400911821402\n",
      " MAE: 0.5643841279275427\n",
      " R2: 0.2373946606358417\n",
      "Save to: mlruns/1/3ca04bf6e3d44452855f8d1cf0e8124a/artifacts\n"
     ]
    }
   ],
   "source": [
    "train(0.2, 0.2)"
   ]
  },
  {
   "cell_type": "code",
   "execution_count": 16,
   "id": "0c821ab5",
   "metadata": {},
   "outputs": [
    {
     "name": "stdout",
     "output_type": "stream",
     "text": [
      "ElasticNet model (alpha=0.100000, l1_ratio=0.100000):\n",
      " RMSE: 0.7128829045893679\n",
      " MAE: 0.5462202174984664\n",
      " R2: 0.2799376066653345\n",
      "Save to: mlruns/1/2f9e209a3e4a493896f0ca84499842f4/artifacts\n"
     ]
    }
   ],
   "source": [
    "train(0.1, 0.1)"
   ]
  },
  {
   "cell_type": "markdown",
   "id": "5531e157",
   "metadata": {},
   "source": [
    "**Note**:\n",
    "\n",
    "* Getting some issues with running `mlflow ui` command. Getting error.\n",
    "* So directly opened link, which seems to work"
   ]
  },
  {
   "cell_type": "code",
   "execution_count": null,
   "id": "5fb1e7c6",
   "metadata": {},
   "outputs": [],
   "source": []
  }
 ],
 "metadata": {
  "kernelspec": {
   "display_name": "Python 3 (ipykernel)",
   "language": "python",
   "name": "python3"
  },
  "language_info": {
   "codemirror_mode": {
    "name": "ipython",
    "version": 3
   },
   "file_extension": ".py",
   "mimetype": "text/x-python",
   "name": "python",
   "nbconvert_exporter": "python",
   "pygments_lexer": "ipython3",
   "version": "3.10.4"
  }
 },
 "nbformat": 4,
 "nbformat_minor": 5
}
